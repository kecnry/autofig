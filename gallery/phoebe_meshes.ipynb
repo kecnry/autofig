{
 "cells": [
  {
   "cell_type": "markdown",
   "metadata": {
    "deletable": true,
    "editable": true
   },
   "source": [
    "# Gallery: PHOEBE Meshes"
   ]
  },
  {
   "cell_type": "code",
   "execution_count": 1,
   "metadata": {
    "collapsed": true,
    "deletable": true,
    "editable": true
   },
   "outputs": [],
   "source": [
    "import autofig\n",
    "import numpy as np\n",
    "import phoebe"
   ]
  },
  {
   "cell_type": "code",
   "execution_count": 2,
   "metadata": {
    "collapsed": true,
    "deletable": true,
    "editable": true
   },
   "outputs": [],
   "source": [
    "autofig.inline()"
   ]
  },
  {
   "cell_type": "code",
   "execution_count": 3,
   "metadata": {
    "collapsed": false,
    "deletable": true,
    "editable": true
   },
   "outputs": [
    {
     "data": {
      "text/plain": [
       "<ParameterSet: 1658 parameters | kinds: rv, mesh, orb>"
      ]
     },
     "execution_count": 3,
     "metadata": {},
     "output_type": "execute_result"
    }
   ],
   "source": [
    "times = np.linspace(0,1,21)\n",
    "\n",
    "# create an \"interesting\" system in PHOEBE\n",
    "b = phoebe.default_binary()\n",
    "b.set_value('incl@orbit', 75)\n",
    "b.set_value('q', 0.5)\n",
    "b.set_value('rpole@secondary', 0.6)\n",
    "\n",
    "# add datasets and compute the model\n",
    "b.add_dataset('orb', times=times)\n",
    "b.add_dataset('rv', times=times)\n",
    "b.run_compute(irrad_method='none', pbmesh=True)"
   ]
  },
  {
   "cell_type": "code",
   "execution_count": 4,
   "metadata": {
    "collapsed": false,
    "deletable": true,
    "editable": true
   },
   "outputs": [
    {
     "name": "stderr",
     "output_type": "stream",
     "text": [
      "/usr/lib/python2.7/dist-packages/matplotlib/colors.py:581: RuntimeWarning: invalid value encountered in less\n",
      "  cbook._putmask(xa, xa < 0.0, -1)\n"
     ]
    },
    {
     "data": {
      "image/png": "[encoded data removed]",
      "text/plain": [
       "<matplotlib.figure.Figure at 0x7f3023d623d0>"
      ]
     },
     "execution_count": 4,
     "metadata": {},
     "output_type": "execute_result"
    }
   ],
   "source": [
    "autofig.reset()\n",
    "\n",
    "for c in ['primary', 'secondary']:\n",
    "    xs = b.get_value(component=c, qualifier='xs', context='model', kind='orb')\n",
    "    ys = b.get_value(component=c, qualifier='ys', context='model', kind='orb')\n",
    "    zs = b.get_value(component=c, qualifier='zs', context='model', kind='orb')\n",
    "    rvs = b.get_value(component=c, qualifier='rvs', context='model', kind='rv')\n",
    "        \n",
    "    # plot the orbit with RV as the color\n",
    "    autofig.plot(xs, ys, zs, i=times,\n",
    "                 xlabel='x', xunit='solRad',\n",
    "                 ylabel='y', yunit='solRad',\n",
    "                 c=rvs, cmap='bwr', clabel='rv', cunit='solRad/d',\n",
    "                 s=0.03, highlight=False,\n",
    "                 uncover=True, trail=0.3,\n",
    "                 linestyle='solid', marker='none')\n",
    "\n",
    "\n",
    "    autofig.plot(times, rvs, i='x',\n",
    "                 xlabel='time', xunit='d',\n",
    "                 ylabel='rv', yunit='solRad/d',\n",
    "                 c=rvs, cmap='bwr', clabel='rv', cunit='solRad/d',\n",
    "                 s=0.03, highlight_size=0.05,\n",
    "                 linestyle='solid', marker='none')\n",
    "    \n",
    "    for t in times:\n",
    "        verts = b.get_value(time=t, component=c, qualifier='vertices', context='model')\n",
    "        rvs = b.get_value(time=t, component=c, qualifier='rvs', context='model')\n",
    "        xs = verts[:, :, 0]\n",
    "        ys = verts[:, :, 1]\n",
    "        zs = verts[:, :, 2]\n",
    "                     \n",
    "        # plot the mesh at this time, with RV as facecolor\n",
    "        autofig.mesh(x=xs, y=ys, z=zs, i=t,\n",
    "                     xlabel='x', xunit='solRad', \n",
    "                     ylabel='y', yunit='solRad',\n",
    "                     fc=rvs, fcmap='bwr', fclim='symmetric', fclabel='rv', fcunit='solRad/d', \n",
    "                     ec='none')\n",
    "        \n",
    "\n",
    "        \n",
    "autofig.draw(i=times[5], show=True, save='phoebe_meshes.png')"
   ]
  },
  {
   "cell_type": "code",
   "execution_count": 5,
   "metadata": {
    "collapsed": false,
    "deletable": true,
    "editable": true
   },
   "outputs": [],
   "source": [
    "autofig.gcf().axes.pad_aspect=False"
   ]
  },
  {
   "cell_type": "code",
   "execution_count": 6,
   "metadata": {
    "collapsed": false,
    "deletable": true,
    "editable": true
   },
   "outputs": [],
   "source": [
    "anim = autofig.animate(indeps=times, tight_layout=False, show=True, \n",
    "                       save='phoebe_meshes.gif', save_kwargs={'writer': 'imagemagick'})"
   ]
  },
  {
   "cell_type": "markdown",
   "metadata": {
    "collapsed": true,
    "deletable": true,
    "editable": true
   },
   "source": [
    "![animation](phoebe_meshes.gif)"
   ]
  },
  {
   "cell_type": "code",
   "execution_count": null,
   "metadata": {
    "collapsed": true
   },
   "outputs": [],
   "source": []
  }
 ],
 "metadata": {
  "kernelspec": {
   "display_name": "Python 2",
   "language": "python",
   "name": "python2"
  },
  "language_info": {
   "codemirror_mode": {
    "name": "ipython",
    "version": 2
   },
   "file_extension": ".py",
   "mimetype": "text/x-python",
   "name": "python",
   "nbconvert_exporter": "python",
   "pygments_lexer": "ipython2",
   "version": "2.7.12+"
  }
 },
 "nbformat": 4,
 "nbformat_minor": 2
}
