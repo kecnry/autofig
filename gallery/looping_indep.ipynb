{
 "cells": [
  {
   "cell_type": "markdown",
   "metadata": {},
   "source": [
    "# Gallery: Looping Independent Variable"
   ]
  },
  {
   "cell_type": "code",
   "execution_count": 4,
   "metadata": {
    "scrolled": true
   },
   "outputs": [],
   "source": [
    "import autofig\n",
    "import numpy as np"
   ]
  },
  {
   "cell_type": "code",
   "execution_count": 2,
   "metadata": {},
   "outputs": [],
   "source": [
    "order = [1,4,3,5,2,6]\n",
    "t = np.concatenate([np.linspace((i-1)*2*np.pi, i*2*np.pi, 20, endpoint=False) for i in order])\n",
    "x = np.concatenate([np.linspace(0, 2*np.pi, 20) for i in order])\n",
    "y = np.cos(x)+t/5"
   ]
  },
  {
   "cell_type": "code",
   "execution_count": 3,
   "metadata": {},
   "outputs": [],
   "source": [
    "autofig.reset()\n",
    "autofig.plot(x, y, i=t, c=t, \n",
    "             xlabel='phase', clabel='time',\n",
    "             marker='None', uncover=True, linebreak='x-')\n",
    "\n",
    "anim = autofig.animate(i=sorted(t), \n",
    "                       save='looping_indep.gif', save_kwargs={'writer': 'imagemagick'})"
   ]
  },
  {
   "cell_type": "markdown",
   "metadata": {},
   "source": [
    "![animation](looping_indep.gif)"
   ]
  },
  {
   "cell_type": "code",
   "execution_count": null,
   "metadata": {
    "collapsed": true
   },
   "outputs": [],
   "source": []
  }
 ],
 "metadata": {
  "kernelspec": {
   "display_name": "Python 2",
   "language": "python",
   "name": "python2"
  },
  "language_info": {
   "codemirror_mode": {
    "name": "ipython",
    "version": 2
   },
   "file_extension": ".py",
   "mimetype": "text/x-python",
   "name": "python",
   "nbconvert_exporter": "python",
   "pygments_lexer": "ipython2",
   "version": "2.7.15rc1"
  }
 },
 "nbformat": 4,
 "nbformat_minor": 2
}
