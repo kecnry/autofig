{
 "cells": [
  {
   "cell_type": "markdown",
   "metadata": {},
   "source": [
    "# Gallery: PHOEBE Meshes in 3D"
   ]
  },
  {
   "cell_type": "code",
   "execution_count": 1,
   "metadata": {},
   "outputs": [],
   "source": [
    "import autofig\n",
    "import numpy as np\n",
    "import phoebe # PHOEBE 2.1.0"
   ]
  },
  {
   "cell_type": "code",
   "execution_count": 2,
   "metadata": {},
   "outputs": [],
   "source": [
    "#autofig.inline()"
   ]
  },
  {
   "cell_type": "code",
   "execution_count": 3,
   "metadata": {},
   "outputs": [
    {
     "data": {
      "text/plain": [
       "<ParameterSet: 146 parameters | kinds: rv, mesh, orb>"
      ]
     },
     "execution_count": 3,
     "metadata": {},
     "output_type": "execute_result"
    }
   ],
   "source": [
    "times = np.linspace(0,1,21)\n",
    "\n",
    "# create an \"interesting\" system in PHOEBE\n",
    "b = phoebe.default_binary()\n",
    "b.set_value('incl@orbit', 75)\n",
    "b.set_value('q', 0.5)\n",
    "b.set_value('requiv@secondary', 0.6)\n",
    "\n",
    "# add datasets and compute the model\n",
    "b.add_dataset('orb', times=times)\n",
    "b.add_dataset('rv', times=times, datset='rv01')\n",
    "b.add_dataset('mesh', times=[], include_times=['rv01'], columns=['rvs@rv01'])\n",
    "b.run_compute(irrad_method='none')"
   ]
  },
  {
   "cell_type": "code",
   "execution_count": 4,
   "metadata": {},
   "outputs": [
    {
     "data": {
      "image/png": "[encoded data removed]",
      "text/plain": [
       "<matplotlib.figure.Figure at 0x7f3e6b7305d0>"
      ]
     },
     "metadata": {},
     "output_type": "display_data"
    }
   ],
   "source": [
    "autofig.reset()\n",
    "\n",
    "for c in ['primary', 'secondary']:\n",
    "    xs = b.get_value(component=c, qualifier='us', context='model', kind='orb')\n",
    "    ys = b.get_value(component=c, qualifier='vs', context='model', kind='orb')\n",
    "    zs = b.get_value(component=c, qualifier='ws', context='model', kind='orb')\n",
    "    rvs = b.get_value(component=c, qualifier='rvs', context='model', kind='rv')\n",
    "        \n",
    "    # plot the orbit with RV as the color\n",
    "    autofig.plot(xs, ys, zs, i=times,\n",
    "                 xlabel='x', xunit='solRad',\n",
    "                 ylabel='y', yunit='solRad',\n",
    "                 c=rvs, cmap='bwr', clabel='rv', cunit='solRad/d',\n",
    "                 s=0.03, highlight=False,\n",
    "                 uncover=True, trail=0.3,\n",
    "                 linestyle='solid', marker='none')\n",
    "\n",
    "    \n",
    "    for t in times:\n",
    "        verts = b.get_value(time=t, component=c, qualifier='uvw_elements', context='model')\n",
    "        rvs = b.get_value(time=t, component=c, qualifier='rvs', context='model')\n",
    "        xs = verts[:, :, 0]\n",
    "        ys = verts[:, :, 1]\n",
    "        zs = verts[:, :, 2]\n",
    "                     \n",
    "        # plot the mesh at this time, with RV as facecolor\n",
    "        autofig.mesh(x=xs, y=ys, z=zs, i=t,\n",
    "                     xlabel='x', xunit='solRad', \n",
    "                     ylabel='y', yunit='solRad',\n",
    "                     fc=rvs, fcmap='bwr', fclim='symmetric', fclabel='rv', fcunit='solRad/d', \n",
    "                     ec='none')\n",
    "        \n",
    "\n",
    "        \n",
    "mplfig = autofig.draw(i=times[5], save='phoebe_meshes_3d.png')"
   ]
  },
  {
   "cell_type": "markdown",
   "metadata": {},
   "source": [
    "Now let's set the projection to '3d', set the range for the viewing angles and disable pad_aspect (as it doesn't play nicely with animations)."
   ]
  },
  {
   "cell_type": "code",
   "execution_count": 5,
   "metadata": {},
   "outputs": [],
   "source": [
    "autofig.gcf().axes.pad_aspect=False\n",
    "autofig.gcf().axes.projection = '3d'\n",
    "autofig.gcf().axes.elev.value = [0, 30]\n",
    "autofig.gcf().axes.azim.value = [-75, 0]"
   ]
  },
  {
   "cell_type": "code",
   "execution_count": 6,
   "metadata": {},
   "outputs": [],
   "source": [
    "anim = autofig.animate(i=times, tight_layout=False, \n",
    "                       save='phoebe_meshes_3d.gif', save_kwargs={'writer': 'imagemagick'})"
   ]
  },
  {
   "cell_type": "markdown",
   "metadata": {
    "collapsed": true
   },
   "source": [
    "![animation](phoebe_meshes_3d.gif)"
   ]
  },
  {
   "cell_type": "code",
   "execution_count": null,
   "metadata": {},
   "outputs": [],
   "source": []
  }
 ],
 "metadata": {
  "kernelspec": {
   "display_name": "Python 2",
   "language": "python",
   "name": "python2"
  },
  "language_info": {
   "codemirror_mode": {
    "name": "ipython",
    "version": 2
   },
   "file_extension": ".py",
   "mimetype": "text/x-python",
   "name": "python",
   "nbconvert_exporter": "python",
   "pygments_lexer": "ipython2",
   "version": "2.7.15rc1"
  }
 },
 "nbformat": 4,
 "nbformat_minor": 2
}
